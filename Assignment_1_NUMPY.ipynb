{
 "cells": [
  {
   "cell_type": "code",
   "execution_count": null,
   "id": "328e9bb0",
   "metadata": {},
   "outputs": [],
   "source": [
    "1. Create a null vector of size 10 but the fifth value which is 1.\n",
    "2. Create a vector with values ranging from 10 to 49.\n",
    "3. Create a 3x3 matrix with values ranging from 0 to 8\n",
    "4. Find indices of non-zero elements from [1,2,0,0,4,0]\n",
    "5. Create a 10x10 array with random values and find the minimum and maximum values.\n",
    "6. Create a random vector of size 30 and find the mean value.\n"
   ]
  },
  {
   "cell_type": "code",
   "execution_count": 10,
   "id": "3275b71a",
   "metadata": {},
   "outputs": [
    {
     "name": "stdout",
     "output_type": "stream",
     "text": [
      "[0. 0. 0. 0. 1. 0. 0. 0. 0. 0.]\n"
     ]
    }
   ],
   "source": [
    "# 1.  Create a null vector  of  size 10 but the fifth value which is 1.\n",
    "import numpy as np  \n",
    "array = np.zeros(10)\n",
    "array[4] = 1\n",
    "print(array)"
   ]
  },
  {
   "cell_type": "code",
   "execution_count": 11,
   "id": "c050932d",
   "metadata": {},
   "outputs": [
    {
     "data": {
      "text/plain": [
       "array([10, 11, 12, 13, 14, 15, 16, 17, 18, 19, 20, 21, 22, 23, 24, 25, 26,\n",
       "       27, 28, 29, 30, 31, 32, 33, 34, 35, 36, 37, 38, 39, 40, 41, 42, 43,\n",
       "       44, 45, 46, 47, 48])"
      ]
     },
     "execution_count": 11,
     "metadata": {},
     "output_type": "execute_result"
    }
   ],
   "source": [
    "# 2. Create a vector with values ranging from 10 to 49.\n",
    "import numpy as np\n",
    "array  = np.arange(10,49)\n",
    "array"
   ]
  },
  {
   "cell_type": "code",
   "execution_count": 13,
   "id": "b29b6211",
   "metadata": {},
   "outputs": [
    {
     "data": {
      "text/plain": [
       "array([[5, 6, 2],\n",
       "       [4, 1, 0],\n",
       "       [2, 0, 3]])"
      ]
     },
     "execution_count": 13,
     "metadata": {},
     "output_type": "execute_result"
    }
   ],
   "source": [
    "# 3. Create a 3x3 matrix with values ranging from 0 to 8\n",
    "import  numpy as  np  \n",
    "matrix =  np.random.randint(low = 0 , high = 8, size = (3,3))\n",
    "matrix\n"
   ]
  },
  {
   "cell_type": "code",
   "execution_count": 14,
   "id": "fd02b095",
   "metadata": {},
   "outputs": [
    {
     "data": {
      "text/plain": [
       "(array([0, 1, 4], dtype=int64),)"
      ]
     },
     "execution_count": 14,
     "metadata": {},
     "output_type": "execute_result"
    }
   ],
   "source": [
    "# 4. Find indices of non-zero elements from [1,2,0,0,4,0] \n",
    "arr = np.array([1,2,0,0,4,0])\n",
    "np.nonzero(arr)"
   ]
  },
  {
   "cell_type": "code",
   "execution_count": 19,
   "id": "e311768a",
   "metadata": {},
   "outputs": [
    {
     "name": "stdout",
     "output_type": "stream",
     "text": [
      "Minimum values : 0\n",
      "Maximum values : 99\n"
     ]
    }
   ],
   "source": [
    "#5. Create a 10x10 array with random values and find the minimum and maximum values.\n",
    "import  numpy as  np  \n",
    "matrix =  np.random.randint(0,100,(10,10))\n",
    "print('Minimum values :',matrix.min())\n",
    "print('Maximum values :',matrix.max())\n"
   ]
  },
  {
   "cell_type": "code",
   "execution_count": 22,
   "id": "ed4be8a7",
   "metadata": {},
   "outputs": [
    {
     "name": "stdout",
     "output_type": "stream",
     "text": [
      "[0.52632141 0.0653495  0.42023352 0.58764364 0.01169405 0.0993147\n",
      " 0.95457147 0.39071389 0.63190365 0.24224357 0.67779033 0.09656895\n",
      " 0.19904095 0.99382439 0.71266762 0.62407329 0.58266573 0.95412269\n",
      " 0.21990785 0.10882869 0.70059972 0.32561007 0.33275229 0.16051302\n",
      " 0.03881248 0.55895972 0.70348313 0.86977558 0.513183   0.8444501 ]\n"
     ]
    },
    {
     "data": {
      "text/plain": [
       "0.47158729955476625"
      ]
     },
     "execution_count": 22,
     "metadata": {},
     "output_type": "execute_result"
    }
   ],
   "source": [
    "# 6. Create a random vector of size 30 and find the mean value.\n",
    "arr = np.random.random(30)\n",
    "print(arr)\n",
    "arr.mean()"
   ]
  },
  {
   "cell_type": "code",
   "execution_count": null,
   "id": "85640287",
   "metadata": {},
   "outputs": [],
   "source": []
  },
  {
   "cell_type": "code",
   "execution_count": null,
   "id": "1f9d949a",
   "metadata": {},
   "outputs": [],
   "source": []
  },
  {
   "cell_type": "code",
   "execution_count": null,
   "id": "2adf253d",
   "metadata": {},
   "outputs": [],
   "source": []
  },
  {
   "cell_type": "code",
   "execution_count": null,
   "id": "1f783ca0",
   "metadata": {},
   "outputs": [],
   "source": []
  }
 ],
 "metadata": {
  "kernelspec": {
   "display_name": "Python 3 (ipykernel)",
   "language": "python",
   "name": "python3"
  },
  "language_info": {
   "codemirror_mode": {
    "name": "ipython",
    "version": 3
   },
   "file_extension": ".py",
   "mimetype": "text/x-python",
   "name": "python",
   "nbconvert_exporter": "python",
   "pygments_lexer": "ipython3",
   "version": "3.8.10"
  }
 },
 "nbformat": 4,
 "nbformat_minor": 5
}
